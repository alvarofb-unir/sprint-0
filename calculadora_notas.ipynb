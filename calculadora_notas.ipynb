{
  "nbformat": 4,
  "nbformat_minor": 0,
  "metadata": {
    "colab": {
      "provenance": []
    },
    "kernelspec": {
      "name": "python3",
      "display_name": "Python 3"
    },
    "language_info": {
      "name": "python"
    }
  },
  "cells": [
    {
      "cell_type": "code",
      "execution_count": 1,
      "metadata": {
        "id": "Rk_Eo_ayGga3"
      },
      "outputs": [],
      "source": [
        "import numpy as np\n",
        "import pandas as pd"
      ]
    },
    {
      "cell_type": "code",
      "source": [
        "lista_notas = [30,80,95,55,75]\n",
        "def calcular_promedio_puntuaciones(lista_punt):\n",
        "  res = 0\n",
        "  for nota in lista_punt:\n",
        "    res += nota\n",
        "  return res/len(lista_punt)\n",
        "\n",
        "def calcular_puntuacion_maxima(lista_punt):\n",
        "  res = lista_punt[0]\n",
        "  for nota in lista_punt:\n",
        "    if nota > res:\n",
        "      res = nota\n",
        "  return res\n",
        "\n",
        "def calcular_total_puntuaciones(lista_punt):\n",
        "  return np.sum(lista_punt)\n",
        "\n",
        "\n",
        "calcular_total_puntuaciones(lista_notas)"
      ],
      "metadata": {
        "colab": {
          "base_uri": "https://localhost:8080/"
        },
        "id": "kuCu4YHPiB0l",
        "outputId": "481a4f64-200f-4c39-bd09-d4ba12e310d7"
      },
      "execution_count": 3,
      "outputs": [
        {
          "output_type": "execute_result",
          "data": {
            "text/plain": [
              "335"
            ]
          },
          "metadata": {},
          "execution_count": 3
        }
      ]
    },
    {
      "cell_type": "code",
      "source": [
        "calcular_promedio_puntuaciones(lista_notas)\n"
      ],
      "metadata": {
        "colab": {
          "base_uri": "https://localhost:8080/"
        },
        "id": "fWahoPjejPFi",
        "outputId": "f294f256-d64b-4203-af14-e3f631d312b9"
      },
      "execution_count": 4,
      "outputs": [
        {
          "output_type": "execute_result",
          "data": {
            "text/plain": [
              "67.0"
            ]
          },
          "metadata": {},
          "execution_count": 4
        }
      ]
    },
    {
      "cell_type": "code",
      "source": [
        "calcular_puntuacion_maxima(lista_notas)"
      ],
      "metadata": {
        "id": "lJOM4jDdjRuf",
        "outputId": "a35fb88f-1e24-49ff-ac1e-1aa0b7c07380",
        "colab": {
          "base_uri": "https://localhost:8080/"
        }
      },
      "execution_count": 5,
      "outputs": [
        {
          "output_type": "execute_result",
          "data": {
            "text/plain": [
              "95"
            ]
          },
          "metadata": {},
          "execution_count": 5
        }
      ]
    }
  ]
}