{
  "nbformat": 4,
  "nbformat_minor": 0,
  "metadata": {
    "colab": {
      "provenance": []
    },
    "kernelspec": {
      "name": "python3",
      "display_name": "Python 3"
    },
    "language_info": {
      "name": "python"
    }
  },
  "cells": [
    {
      "cell_type": "code",
      "execution_count": 1,
      "metadata": {
        "id": "Rk_Eo_ayGga3"
      },
      "outputs": [],
      "source": [
        "import numpy as np\n",
        "import pandas as pd"
      ]
    },
    {
      "cell_type": "code",
      "source": [
        "# Lista de notas\n",
        "lista_notas = [30, 80, 95, 55, 75]\n",
        "\n",
        "# Función para calcular el promedio de las puntuaciones\n",
        "def calcular_promedio_puntuaciones(lista_punt):\n",
        "    res = 0  # Inicializamos una variable para almacenar la suma de las notas\n",
        "    for nota in lista_punt:  # Iteramos a través de cada nota en la lista\n",
        "        res += nota  # Sumamos cada nota al total\n",
        "    return res / len(lista_punt)  # Retornamos el promedio (la suma dividida entre la cantidad de notas)\n",
        "\n",
        "# Función para calcular la puntuación máxima\n",
        "def calcular_puntuacion_maxima(lista_punt):\n",
        "    res = lista_punt[0]  # Inicializamos la variable 'res' con la primera nota de la lista\n",
        "    for nota in lista_punt:  # Iteramos a través de todas las notas\n",
        "        if nota > res:  # Si encontramos una nota mayor que la actual máxima\n",
        "            res = nota  # Actualizamos la puntuación máxima\n",
        "    return res  # Retornamos la puntuación máxima encontrada\n",
        "\n",
        "# Función para calcular el total de las puntuaciones usando numpy\n",
        "def calcular_total_puntuaciones(lista_punt):\n",
        "    return np.sum(lista_punt)  # Usamos la función 'sum' de numpy para sumar todas las notas\n",
        "\n",
        "\n"
      ],
      "metadata": {
        "id": "kuCu4YHPiB0l"
      },
      "execution_count": 6,
      "outputs": []
    },
    {
      "cell_type": "code",
      "source": [
        "# Llamamos a la función calcular_total_puntuaciones con la lista de notas\n",
        "calcular_total_puntuaciones(lista_notas)"
      ],
      "metadata": {
        "colab": {
          "base_uri": "https://localhost:8080/"
        },
        "id": "NggQS5frq2oF",
        "outputId": "043c14c5-eeca-44ac-d07b-ce9768f63877"
      },
      "execution_count": 7,
      "outputs": [
        {
          "output_type": "execute_result",
          "data": {
            "text/plain": [
              "335"
            ]
          },
          "metadata": {},
          "execution_count": 7
        }
      ]
    },
    {
      "cell_type": "code",
      "source": [
        "# Llamamos a la función calcular_promedio_puntuaciones con la lista de notas\n",
        "calcular_promedio_puntuaciones(lista_notas)\n"
      ],
      "metadata": {
        "colab": {
          "base_uri": "https://localhost:8080/"
        },
        "id": "fWahoPjejPFi",
        "outputId": "50679488-c988-4b03-f6cc-1bd736f8d60c"
      },
      "execution_count": 9,
      "outputs": [
        {
          "output_type": "execute_result",
          "data": {
            "text/plain": [
              "67.0"
            ]
          },
          "metadata": {},
          "execution_count": 9
        }
      ]
    },
    {
      "cell_type": "code",
      "source": [
        "# Llamamos a la función calcular_puntuacion_maxima con la lista de notas\n",
        "calcular_puntuacion_maxima(lista_notas)"
      ],
      "metadata": {
        "colab": {
          "base_uri": "https://localhost:8080/"
        },
        "id": "lJOM4jDdjRuf",
        "outputId": "e217bd1e-9796-465d-de6f-b6b3073e611b"
      },
      "execution_count": 10,
      "outputs": [
        {
          "output_type": "execute_result",
          "data": {
            "text/plain": [
              "95"
            ]
          },
          "metadata": {},
          "execution_count": 10
        }
      ]
    }
  ]
}