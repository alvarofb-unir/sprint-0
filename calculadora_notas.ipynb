{
  "nbformat": 4,
  "nbformat_minor": 0,
  "metadata": {
    "colab": {
      "provenance": []
    },
    "kernelspec": {
      "name": "python3",
      "display_name": "Python 3"
    },
    "language_info": {
      "name": "python"
    }
  },
  "cells": [
    {
      "cell_type": "code",
      "execution_count": 1,
      "metadata": {
        "id": "Rk_Eo_ayGga3"
      },
      "outputs": [],
      "source": [
        "import numpy as np\n",
        "import pandas as pd"
      ]
    },
    {
      "cell_type": "code",
      "source": [
        "# Lista de notas\n",
        "lista_notas = [30, 80, 95, 55, 75]\n",
        "\n",
        "# Función para calcular el promedio de las puntuaciones\n",
        "def calcular_promedio_puntuaciones(lista_punt):\n",
        "    res = 0  # Inicializamos una variable para almacenar la suma de las notas\n",
        "    for nota in lista_punt:  # Iteramos a través de cada nota en la lista\n",
        "        res += nota  # Sumamos cada nota al total\n",
        "    return res / len(lista_punt)  # Retornamos el promedio (la suma dividida entre la cantidad de notas)\n",
        "\n",
        "# Función para calcular la puntuación máxima\n",
        "def calcular_puntuacion_maxima(lista_punt):\n",
        "    res = lista_punt[0]  # Inicializamos la variable 'res' con la primera nota de la lista\n",
        "    for nota in lista_punt:  # Iteramos a través de todas las notas\n",
        "        if nota > res:  # Si encontramos una nota mayor que la actual máxima\n",
        "            res = nota  # Actualizamos la puntuación máxima\n",
        "    return res  # Retornamos la puntuación máxima encontrada\n",
        "\n",
        "# Función para calcular el total de las puntuaciones usando numpy\n",
        "def calcular_total_puntuaciones(lista_punt):\n",
        "    return np.sum(lista_punt)  # Usamos la función 'sum' de numpy para sumar todas las notas\n",
        "\n",
        "\n"
      ],
      "metadata": {
        "id": "kuCu4YHPiB0l"
      },
      "execution_count": 6,
      "outputs": []
    },
    {
      "cell_type": "code",
      "source": [
        "# Llamamos a las funciones y las imprimimos para ver los resultados\n",
        "promedio = calcular_promedio_puntuaciones(lista_notas)\n",
        "print(\"Promedio de puntuaciones:\", promedio)\n",
        "\n",
        "puntuacion_maxima = calcular_puntuacion_maxima(lista_notas)\n",
        "print(\"Puntuación máxima:\", puntuacion_maxima)\n",
        "\n",
        "total_puntuaciones = calcular_total_puntuaciones(lista_notas)\n",
        "print(\"Total de puntuaciones:\", total_puntuaciones)"
      ],
      "metadata": {
        "colab": {
          "base_uri": "https://localhost:8080/"
        },
        "id": "OnmSAN8msd25",
        "outputId": "1a5c7a00-a95b-4897-9111-44eecf6c0387"
      },
      "execution_count": 11,
      "outputs": [
        {
          "output_type": "stream",
          "name": "stdout",
          "text": [
            "Promedio de puntuaciones: 67.0\n",
            "Puntuación máxima: 95\n",
            "Total de puntuaciones: 335\n"
          ]
        }
      ]
    }
  ]
}